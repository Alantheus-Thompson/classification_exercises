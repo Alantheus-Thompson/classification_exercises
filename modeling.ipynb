{
 "cells": [
  {
   "cell_type": "code",
   "execution_count": 11,
   "id": "476edeef",
   "metadata": {},
   "outputs": [],
   "source": [
    "#data things\n",
    "import numpy as np\n",
    "import pandas as pd\n",
    "\n",
    "#to evaulate\n",
    "from sklearn.metrics import classification_report\n",
    "\n",
    "#my own py files\n",
    "import acquire as a\n",
    "import prepare as p\n",
    "import model as m"
   ]
  },
  {
   "cell_type": "code",
   "execution_count": 12,
   "id": "933d86f7",
   "metadata": {},
   "outputs": [],
   "source": [
    "titanic_df=p.prep_titanic()"
   ]
  },
  {
   "cell_type": "code",
   "execution_count": 13,
   "id": "873f0506",
   "metadata": {},
   "outputs": [
    {
     "data": {
      "text/plain": [
       "(     passenger_id  survived pclass     sex  sibsp  parch      fare  \\\n",
       " 776           776         0      3    male      0      0    7.7500   \n",
       " 829           829         1      1  female      0      0   80.0000   \n",
       " 215           215         1      1  female      1      0  113.2750   \n",
       " 258           258         1      1  female      0      0  512.3292   \n",
       " 129           129         0      3    male      0      0    6.9750   \n",
       " ..            ...       ...    ...     ...    ...    ...       ...   \n",
       " 125           125         1      3    male      1      0   11.2417   \n",
       " 360           360         0      3    male      1      4   27.9000   \n",
       " 55             55         1      1    male      0      0   35.5000   \n",
       " 298           298         1      1    male      0      0   30.5000   \n",
       " 768           768         0      3    male      1      0   24.1500   \n",
       " \n",
       "      embark_town  alone  \n",
       " 776   Queenstown      1  \n",
       " 829  Southampton      1  \n",
       " 215    Cherbourg      0  \n",
       " 258    Cherbourg      1  \n",
       " 129  Southampton      1  \n",
       " ..           ...    ...  \n",
       " 125    Cherbourg      0  \n",
       " 360  Southampton      0  \n",
       " 55   Southampton      1  \n",
       " 298  Southampton      1  \n",
       " 768   Queenstown      0  \n",
       " \n",
       " [534 rows x 9 columns],\n",
       "      passenger_id  survived pclass     sex  sibsp  parch      fare  \\\n",
       " 541           541         0      3  female      4      2   31.2750   \n",
       " 204           204         1      3    male      0      0    8.0500   \n",
       " 108           108         0      3    male      0      0    7.8958   \n",
       " 88             88         1      1  female      3      2  263.0000   \n",
       " 677           677         1      3  female      0      0    9.8417   \n",
       " ..            ...       ...    ...     ...    ...    ...       ...   \n",
       " 171           171         0      3    male      4      1   29.1250   \n",
       " 369           369         1      1  female      0      0   69.3000   \n",
       " 114           114         0      3  female      0      0   14.4583   \n",
       " 855           855         1      3  female      0      1    9.3500   \n",
       " 885           885         0      3  female      0      5   29.1250   \n",
       " \n",
       "      embark_town  alone  \n",
       " 541  Southampton      0  \n",
       " 204  Southampton      1  \n",
       " 108  Southampton      1  \n",
       " 88   Southampton      0  \n",
       " 677  Southampton      1  \n",
       " ..           ...    ...  \n",
       " 171   Queenstown      0  \n",
       " 369    Cherbourg      1  \n",
       " 114    Cherbourg      1  \n",
       " 855  Southampton      0  \n",
       " 885   Queenstown      0  \n",
       " \n",
       " [178 rows x 9 columns],\n",
       "      passenger_id  survived pclass     sex  sibsp  parch      fare  \\\n",
       " 763           763         1      1  female      1      2  120.0000   \n",
       " 112           112         0      3    male      0      0    8.0500   \n",
       " 230           230         1      1  female      1      0   83.4750   \n",
       " 500           500         0      3    male      0      0    8.6625   \n",
       " 237           237         1      2  female      0      2   26.2500   \n",
       " ..            ...       ...    ...     ...    ...    ...       ...   \n",
       " 883           883         0      2    male      0      0   10.5000   \n",
       " 149           149         0      2    male      0      0   13.0000   \n",
       " 843           843         0      3    male      0      0    6.4375   \n",
       " 581           581         1      1  female      1      1  110.8833   \n",
       " 214           214         0      3    male      1      0    7.7500   \n",
       " \n",
       "      embark_town  alone  \n",
       " 763  Southampton      0  \n",
       " 112  Southampton      1  \n",
       " 230  Southampton      0  \n",
       " 500  Southampton      1  \n",
       " 237  Southampton      0  \n",
       " ..           ...    ...  \n",
       " 883  Southampton      1  \n",
       " 149  Southampton      1  \n",
       " 843    Cherbourg      1  \n",
       " 581    Cherbourg      0  \n",
       " 214   Queenstown      0  \n",
       " \n",
       " [179 rows x 9 columns])"
      ]
     },
     "execution_count": 13,
     "metadata": {},
     "output_type": "execute_result"
    }
   ],
   "source": [
    "p.split_data(titanic_df, 'survived')"
   ]
  },
  {
   "cell_type": "code",
   "execution_count": 15,
   "id": "788f8c8f",
   "metadata": {},
   "outputs": [
    {
     "ename": "NameError",
     "evalue": "name 'train_df' is not defined",
     "output_type": "error",
     "traceback": [
      "\u001b[0;31m---------------------------------------------------------------------------\u001b[0m",
      "\u001b[0;31mNameError\u001b[0m                                 Traceback (most recent call last)",
      "Cell \u001b[0;32mIn[15], line 1\u001b[0m\n\u001b[0;32m----> 1\u001b[0m m\u001b[38;5;241m.\u001b[39mpreprocess_titanic(train_df, validate_df, test_df)\n",
      "\u001b[0;31mNameError\u001b[0m: name 'train_df' is not defined"
     ]
    }
   ],
   "source": [
    "m.preprocess_titanic(train_df, validate_df, test_df)"
   ]
  },
  {
   "cell_type": "code",
   "execution_count": null,
   "id": "5807f4dd",
   "metadata": {},
   "outputs": [],
   "source": []
  },
  {
   "cell_type": "code",
   "execution_count": null,
   "id": "291049f7",
   "metadata": {},
   "outputs": [],
   "source": []
  }
 ],
 "metadata": {
  "kernelspec": {
   "display_name": "Python 3 (ipykernel)",
   "language": "python",
   "name": "python3"
  },
  "language_info": {
   "codemirror_mode": {
    "name": "ipython",
    "version": 3
   },
   "file_extension": ".py",
   "mimetype": "text/x-python",
   "name": "python",
   "nbconvert_exporter": "python",
   "pygments_lexer": "ipython3",
   "version": "3.11.5"
  }
 },
 "nbformat": 4,
 "nbformat_minor": 5
}
