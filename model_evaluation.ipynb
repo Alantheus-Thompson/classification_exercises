{
 "cells": [
  {
   "cell_type": "markdown",
   "id": "5536972e",
   "metadata": {},
   "source": [
    "|               | pred dog   | pred cat   |\n",
    "|:------------  |-----------:|-----------:|\n",
    "| actual dog    |         46 |         7  |\n",
    "| actual cat    |         13 |         34 |\n"
   ]
  },
  {
   "cell_type": "markdown",
   "id": "4c2413cb",
   "metadata": {},
   "source": [
    "In the context of this problem, what is a false positive?\n",
    "\n",
    "FP depends on what was set as the positive case.  If dog was set as the positive case then a FP would be the lower \n",
    "left quadrant, dog predicted but it was actually a cat.  If cat was set as the positive case then the upper right \n",
    "quadrant would be the FP.\n",
    "\n",
    "In the context of this problem, what is a false negative?\n",
    "\n",
    "Same as first question.  If dog was set as the positive case then the upper right quadrant would be the FN.  If cat\n",
    "positive then the lower right quadrant would be FN.\n",
    "\n",
    "How would you describe this model?\n",
    "\n",
    "I would assume dog is the positive case and say that it is highly accurate, with a high degree of precision and an \n",
    "even greater degree of recall.\n",
    "\n",
    "Hand Calculations under assumption of Dog is positive\n",
    "\n",
    "tp = 46\n",
    "tn = 34\n",
    "fp = 13\n",
    "fn = 7 \n",
    "\n",
    "accuracy = (46+34)/(46+34+13+7) = 80/100 = .8\n",
    "precision = (46)/(46+13) = 46/59 = .7796\n",
    "recall = 46/(46+7) = 46/53 = .8679"
   ]
  },
  {
   "cell_type": "code",
   "execution_count": 2,
   "id": "97d7ba31",
   "metadata": {},
   "outputs": [],
   "source": [
    "import pandas as pd\n",
    "import os\n",
    "from pydataset import data\n",
    "import numpy as np\n",
    "\n",
    "import matplotlib.pyplot as plt\n",
    "import seaborn as sns\n",
    "\n",
    "\n",
    "from sklearn.model_selection import train_test_split"
   ]
  },
  {
   "cell_type": "markdown",
   "id": "09fdccab",
   "metadata": {},
   "source": [
    "An internal team wants to investigate the cause of the manufacturing defects. They tell you that they want to \n",
    "identify as many of the ducks that have a defect as possible. Which evaluation metric would be appropriate here? \n",
    "Which model would be the best fit for this use case?\n"
   ]
  },
  {
   "cell_type": "code",
   "execution_count": 53,
   "id": "65abee55",
   "metadata": {},
   "outputs": [],
   "source": [
    "\n",
    "# relative file path (file in same directory)\n",
    "file_path = 'c3_use.csv'\n",
    "\n",
    "# convert to dataframe, data wonky on import due to it reading the header as a row, use header to move index down\n",
    "df = pd.read_csv(file_path, header=1)\n",
    "\n"
   ]
  },
  {
   "cell_type": "code",
   "execution_count": 54,
   "id": "3ff4ecc3",
   "metadata": {},
   "outputs": [
    {
     "data": {
      "text/html": [
       "<div>\n",
       "<style scoped>\n",
       "    .dataframe tbody tr th:only-of-type {\n",
       "        vertical-align: middle;\n",
       "    }\n",
       "\n",
       "    .dataframe tbody tr th {\n",
       "        vertical-align: top;\n",
       "    }\n",
       "\n",
       "    .dataframe thead th {\n",
       "        text-align: right;\n",
       "    }\n",
       "</style>\n",
       "<table border=\"1\" class=\"dataframe\">\n",
       "  <thead>\n",
       "    <tr style=\"text-align: right;\">\n",
       "      <th></th>\n",
       "      <th>actual</th>\n",
       "      <th>model1</th>\n",
       "      <th>model2</th>\n",
       "      <th>model3</th>\n",
       "    </tr>\n",
       "  </thead>\n",
       "  <tbody>\n",
       "    <tr>\n",
       "      <th>0</th>\n",
       "      <td>No Defect</td>\n",
       "      <td>No Defect</td>\n",
       "      <td>Defect</td>\n",
       "      <td>No Defect</td>\n",
       "    </tr>\n",
       "    <tr>\n",
       "      <th>1</th>\n",
       "      <td>No Defect</td>\n",
       "      <td>No Defect</td>\n",
       "      <td>Defect</td>\n",
       "      <td>Defect</td>\n",
       "    </tr>\n",
       "    <tr>\n",
       "      <th>2</th>\n",
       "      <td>No Defect</td>\n",
       "      <td>No Defect</td>\n",
       "      <td>Defect</td>\n",
       "      <td>No Defect</td>\n",
       "    </tr>\n",
       "    <tr>\n",
       "      <th>3</th>\n",
       "      <td>No Defect</td>\n",
       "      <td>Defect</td>\n",
       "      <td>Defect</td>\n",
       "      <td>Defect</td>\n",
       "    </tr>\n",
       "    <tr>\n",
       "      <th>4</th>\n",
       "      <td>No Defect</td>\n",
       "      <td>No Defect</td>\n",
       "      <td>Defect</td>\n",
       "      <td>No Defect</td>\n",
       "    </tr>\n",
       "  </tbody>\n",
       "</table>\n",
       "</div>"
      ],
      "text/plain": [
       "      actual     model1  model2     model3\n",
       "0  No Defect  No Defect  Defect  No Defect\n",
       "1  No Defect  No Defect  Defect     Defect\n",
       "2  No Defect  No Defect  Defect  No Defect\n",
       "3  No Defect     Defect  Defect     Defect\n",
       "4  No Defect  No Defect  Defect  No Defect"
      ]
     },
     "execution_count": 54,
     "metadata": {},
     "output_type": "execute_result"
    }
   ],
   "source": [
    "df.head()"
   ]
  },
  {
   "cell_type": "markdown",
   "id": "fe70a0a0",
   "metadata": {},
   "source": [
    "An internal team wants to investigate the cause of the manufacturing defects. They tell you that they want to \n",
    "identify as many of the ducks that have a defect as possible. Which evaluation metric would be appropriate here? \n",
    "Which model would be the best fit for this use case?"
   ]
  },
  {
   "cell_type": "markdown",
   "id": "90cc47fb",
   "metadata": {},
   "source": [
    "Recall would be the appropriate evaluation metric.  The perspective is concerned with capturing actual data.  Also given it is a manufacturing process there are likely a significant amount of measurements that will with a high degree of confidence indicate defects. \n",
    "\n"
   ]
  },
  {
   "cell_type": "markdown",
   "id": "0c34daee",
   "metadata": {},
   "source": [
    "#Model Fit check\n",
    "df.actual.mode()\n",
    "df.actual.value_counts()\n",
    "#look through value counts of each model\n",
    "df.model1.value_counts()\n",
    "\n",
    "Model 1 appears to be the best fit but model3 has the highest recall. So model3"
   ]
  },
  {
   "cell_type": "code",
   "execution_count": 55,
   "id": "e107fdf2",
   "metadata": {
    "scrolled": true
   },
   "outputs": [
    {
     "data": {
      "text/html": [
       "<div>\n",
       "<style scoped>\n",
       "    .dataframe tbody tr th:only-of-type {\n",
       "        vertical-align: middle;\n",
       "    }\n",
       "\n",
       "    .dataframe tbody tr th {\n",
       "        vertical-align: top;\n",
       "    }\n",
       "\n",
       "    .dataframe thead th {\n",
       "        text-align: right;\n",
       "    }\n",
       "</style>\n",
       "<table border=\"1\" class=\"dataframe\">\n",
       "  <thead>\n",
       "    <tr style=\"text-align: right;\">\n",
       "      <th>model1</th>\n",
       "      <th>Defect</th>\n",
       "      <th>No Defect</th>\n",
       "    </tr>\n",
       "    <tr>\n",
       "      <th>actual</th>\n",
       "      <th></th>\n",
       "      <th></th>\n",
       "    </tr>\n",
       "  </thead>\n",
       "  <tbody>\n",
       "    <tr>\n",
       "      <th>Defect</th>\n",
       "      <td>8</td>\n",
       "      <td>8</td>\n",
       "    </tr>\n",
       "    <tr>\n",
       "      <th>No Defect</th>\n",
       "      <td>2</td>\n",
       "      <td>182</td>\n",
       "    </tr>\n",
       "  </tbody>\n",
       "</table>\n",
       "</div>"
      ],
      "text/plain": [
       "model1     Defect  No Defect\n",
       "actual                      \n",
       "Defect          8          8\n",
       "No Defect       2        182"
      ]
     },
     "execution_count": 55,
     "metadata": {},
     "output_type": "execute_result"
    }
   ],
   "source": [
    "model1_crosstab = pd.crosstab(df.actual, df.model1)\n",
    "model1_crosstab"
   ]
  },
  {
   "cell_type": "code",
   "execution_count": 56,
   "id": "4c5c08da",
   "metadata": {},
   "outputs": [
    {
     "name": "stdout",
     "output_type": "stream",
     "text": [
      "Actual     Defect  No Defect\n",
      "Predicted                   \n",
      "Defect          8          8\n",
      "No Defect       2        182\n",
      "\n",
      "Accuracy: 0.9500\n",
      "Precision: 0.8000\n",
      "Recall: 0.5000\n"
     ]
    }
   ],
   "source": [
    "def model_evaluation(actual, predicted):\n",
    "    \n",
    "    '''\n",
    "    actual argument first, predicted second for crosstab:\n",
    "    TP = ULC\n",
    "    TN = LRC\n",
    "    FP = LLC\n",
    "    FN = URC\n",
    "    \n",
    "    '''\n",
    "    crosstab = pd.crosstab(actual, predicted, rownames=['Predicted'], colnames=['Actual'])\n",
    "    # Extract true positive (TP), true negative (TN), false positive (FP), and false negative (FN)\n",
    "    tp = crosstab.iloc[0, 0]\n",
    "    tn = crosstab.iloc[1, 1]\n",
    "    fp = crosstab.iloc[1, 0]\n",
    "    fn = crosstab.iloc[0, 1]\n",
    "\n",
    "    # model check measurements\n",
    "    accuracy = (tp + tn) / (tp + tn + fp + fn)\n",
    "\n",
    "    precision = tp / (tp + fp)\n",
    "\n",
    "    recall = tp / (tp + fn)\n",
    "\n",
    "    # Print the results\n",
    "    print(crosstab)\n",
    "    print()\n",
    "    print(f'Accuracy: {accuracy:.4f}')\n",
    "    print(f'Precision: {precision:.4f}')\n",
    "    print(f'Recall: {recall:.4f}')\n",
    "\n",
    "model_evaluation(df.actual,df.model1)\n"
   ]
  },
  {
   "cell_type": "code",
   "execution_count": 57,
   "id": "75f5b8e7",
   "metadata": {
    "scrolled": true
   },
   "outputs": [
    {
     "name": "stdout",
     "output_type": "stream",
     "text": [
      "Actual     Defect  No Defect\n",
      "Predicted                   \n",
      "Defect          9          7\n",
      "No Defect      81        103\n",
      "\n",
      "Accuracy: 0.5600\n",
      "Precision: 0.1000\n",
      "Recall: 0.5625\n"
     ]
    }
   ],
   "source": [
    "model_evaluation(df.actual, df.model2)"
   ]
  },
  {
   "cell_type": "code",
   "execution_count": 58,
   "id": "7fd21e6b",
   "metadata": {},
   "outputs": [
    {
     "name": "stdout",
     "output_type": "stream",
     "text": [
      "Actual     Defect  No Defect\n",
      "Predicted                   \n",
      "Defect         13          3\n",
      "No Defect      86         98\n",
      "\n",
      "Accuracy: 0.5550\n",
      "Precision: 0.1313\n",
      "Recall: 0.8125\n"
     ]
    }
   ],
   "source": [
    "model_evaluation(df.actual, df.model3)"
   ]
  },
  {
   "cell_type": "markdown",
   "id": "4eb10c0c",
   "metadata": {},
   "source": [
    "Recently several stories in the local news have come out highlighting customers who received a rubber duck with a \n",
    "defect, and portraying C3 in a bad light. The PR team has decided to launch a program that gives customers with a \n",
    "defective duck a vacation to Hawaii. They need you to predict which ducks will have defects, but tell you the \n",
    "really don't want to accidentally give out a vacation package when the duck really doesn't have a defect. Which \n",
    "evaluation metric would be appropriate here? Which model would be the best fit for this use case?"
   ]
  },
  {
   "cell_type": "markdown",
   "id": "32ee6177",
   "metadata": {},
   "source": [
    "Precision applies.  "
   ]
  },
  {
   "cell_type": "markdown",
   "id": "c1965e24",
   "metadata": {},
   "source": [
    "You are working as a data scientist for Gives You Paws ™, a subscription based service that shows you cute \n",
    "pictures of dogs or cats (or both for an additional fee).\n",
    "\n",
    "At Gives You Paws, anyone can upload pictures of their cats or dogs. The photos are then put through a two step \n",
    "process. First an automated algorithm tags pictures as either a cat or a dog (Phase I). Next, the photos that have \n",
    "been initially identified are put through another round of review, possibly with some human oversight, before \n",
    "being presented to the users (Phase II)."
   ]
  },
  {
   "cell_type": "code",
   "execution_count": 59,
   "id": "de824dfd",
   "metadata": {},
   "outputs": [],
   "source": [
    "# relative file path (file in same directory)\n",
    "file_path = 'gives_you_paws.csv'\n",
    "\n",
    "# convert to dataframe, data wonky on import due to it reading the header as a row, use header to move index down\n",
    "df = pd.read_csv(file_path)"
   ]
  },
  {
   "cell_type": "code",
   "execution_count": 60,
   "id": "8946bdca",
   "metadata": {},
   "outputs": [
    {
     "data": {
      "text/html": [
       "<div>\n",
       "<style scoped>\n",
       "    .dataframe tbody tr th:only-of-type {\n",
       "        vertical-align: middle;\n",
       "    }\n",
       "\n",
       "    .dataframe tbody tr th {\n",
       "        vertical-align: top;\n",
       "    }\n",
       "\n",
       "    .dataframe thead th {\n",
       "        text-align: right;\n",
       "    }\n",
       "</style>\n",
       "<table border=\"1\" class=\"dataframe\">\n",
       "  <thead>\n",
       "    <tr style=\"text-align: right;\">\n",
       "      <th></th>\n",
       "      <th>actual</th>\n",
       "      <th>model1</th>\n",
       "      <th>model2</th>\n",
       "      <th>model3</th>\n",
       "      <th>model4</th>\n",
       "    </tr>\n",
       "  </thead>\n",
       "  <tbody>\n",
       "    <tr>\n",
       "      <th>0</th>\n",
       "      <td>cat</td>\n",
       "      <td>cat</td>\n",
       "      <td>dog</td>\n",
       "      <td>cat</td>\n",
       "      <td>dog</td>\n",
       "    </tr>\n",
       "    <tr>\n",
       "      <th>1</th>\n",
       "      <td>dog</td>\n",
       "      <td>dog</td>\n",
       "      <td>cat</td>\n",
       "      <td>cat</td>\n",
       "      <td>dog</td>\n",
       "    </tr>\n",
       "    <tr>\n",
       "      <th>2</th>\n",
       "      <td>dog</td>\n",
       "      <td>cat</td>\n",
       "      <td>cat</td>\n",
       "      <td>cat</td>\n",
       "      <td>dog</td>\n",
       "    </tr>\n",
       "    <tr>\n",
       "      <th>3</th>\n",
       "      <td>dog</td>\n",
       "      <td>dog</td>\n",
       "      <td>dog</td>\n",
       "      <td>cat</td>\n",
       "      <td>dog</td>\n",
       "    </tr>\n",
       "    <tr>\n",
       "      <th>4</th>\n",
       "      <td>cat</td>\n",
       "      <td>cat</td>\n",
       "      <td>cat</td>\n",
       "      <td>dog</td>\n",
       "      <td>dog</td>\n",
       "    </tr>\n",
       "  </tbody>\n",
       "</table>\n",
       "</div>"
      ],
      "text/plain": [
       "  actual model1 model2 model3 model4\n",
       "0    cat    cat    dog    cat    dog\n",
       "1    dog    dog    cat    cat    dog\n",
       "2    dog    cat    cat    cat    dog\n",
       "3    dog    dog    dog    cat    dog\n",
       "4    cat    cat    cat    dog    dog"
      ]
     },
     "execution_count": 60,
     "metadata": {},
     "output_type": "execute_result"
    }
   ],
   "source": [
    "df.head()"
   ]
  },
  {
   "cell_type": "code",
   "execution_count": 61,
   "id": "5ff3555f",
   "metadata": {},
   "outputs": [
    {
     "name": "stdout",
     "output_type": "stream",
     "text": [
      "Actual      cat   dog\n",
      "Predicted            \n",
      "cat        1423   323\n",
      "dog         640  2614\n",
      "\n",
      "Accuracy: 0.8074\n",
      "Precision: 0.6898\n",
      "Recall: 0.8150\n"
     ]
    }
   ],
   "source": [
    "model_evaluation(df.actual, df.model1)"
   ]
  },
  {
   "cell_type": "code",
   "execution_count": 62,
   "id": "f3fa22ec",
   "metadata": {},
   "outputs": [
    {
     "name": "stdout",
     "output_type": "stream",
     "text": [
      "Actual      cat   dog\n",
      "Predicted            \n",
      "cat        1555   191\n",
      "dog        1657  1597\n",
      "\n",
      "Accuracy: 0.6304\n",
      "Precision: 0.4841\n",
      "Recall: 0.8906\n"
     ]
    }
   ],
   "source": [
    "model_evaluation(df.actual,df.model2)"
   ]
  },
  {
   "cell_type": "code",
   "execution_count": 63,
   "id": "b91adfcc",
   "metadata": {},
   "outputs": [
    {
     "name": "stdout",
     "output_type": "stream",
     "text": [
      "Actual      cat   dog\n",
      "Predicted            \n",
      "cat         893   853\n",
      "dog        1599  1655\n",
      "\n",
      "Accuracy: 0.5096\n",
      "Precision: 0.3583\n",
      "Recall: 0.5115\n"
     ]
    }
   ],
   "source": [
    "model_evaluation(df.actual,df.model3)"
   ]
  },
  {
   "cell_type": "markdown",
   "id": "59bc82be",
   "metadata": {},
   "source": [
    "Given this dataset, use pandas to create a baseline model (i.e. a model that just predicts the most common class) \n",
    "and answer the following questions:"
   ]
  },
  {
   "cell_type": "code",
   "execution_count": 76,
   "id": "731bd33a",
   "metadata": {},
   "outputs": [
    {
     "name": "stdout",
     "output_type": "stream",
     "text": [
      "Actual     cat   dog\n",
      "Predicted           \n",
      "cat        603  1143\n",
      "dog        144  3110\n",
      "\n",
      "Accuracy: 0.7426\n",
      "Precision: 0.8072\n",
      "Recall: 0.3454\n"
     ]
    }
   ],
   "source": [
    "model_evaluation(df.actual,df.model4)"
   ]
  },
  {
   "cell_type": "code",
   "execution_count": 75,
   "id": "405898ef",
   "metadata": {
    "scrolled": true
   },
   "outputs": [
    {
     "data": {
      "text/plain": [
       "0.6508"
      ]
     },
     "execution_count": 75,
     "metadata": {},
     "output_type": "execute_result"
    }
   ],
   "source": [
    "(df.actual == 'dog').mean()"
   ]
  },
  {
   "cell_type": "code",
   "execution_count": null,
   "id": "1f1c8983",
   "metadata": {},
   "outputs": [],
   "source": [
    "# for model in models:\n",
    "#     model_evaluation(df.actual,'model')"
   ]
  },
  {
   "cell_type": "markdown",
   "id": "ff1e9db0",
   "metadata": {},
   "source": [
    "In terms of accuracy, how do the various models compare to the baseline model? Are any of the models better than \n",
    "the baseline?\n",
    "\n",
    "Model1 exceeds accuracy, precision, and recall.  Model three has the highest recall. Model4 has higher accuracy and the highest precision"
   ]
  },
  {
   "cell_type": "markdown",
   "id": "ee8331e7",
   "metadata": {},
   "source": [
    "Suppose you are working on a team that solely deals with dog pictures. Which of these models would you recommend?"
   ]
  },
  {
   "cell_type": "markdown",
   "id": "55a32519",
   "metadata": {},
   "source": [
    "Precision; model4"
   ]
  },
  {
   "cell_type": "markdown",
   "id": "96d8c2ca",
   "metadata": {},
   "source": [
    "Suppose you are working on a team that solely deals with cat pictures. Which of these models would you recommend?"
   ]
  },
  {
   "cell_type": "code",
   "execution_count": null,
   "id": "12486df3",
   "metadata": {},
   "outputs": [],
   "source": [
    "Recall"
   ]
  }
 ],
 "metadata": {
  "kernelspec": {
   "display_name": "Python 3 (ipykernel)",
   "language": "python",
   "name": "python3"
  },
  "language_info": {
   "codemirror_mode": {
    "name": "ipython",
    "version": 3
   },
   "file_extension": ".py",
   "mimetype": "text/x-python",
   "name": "python",
   "nbconvert_exporter": "python",
   "pygments_lexer": "ipython3",
   "version": "3.11.5"
  }
 },
 "nbformat": 4,
 "nbformat_minor": 5
}
